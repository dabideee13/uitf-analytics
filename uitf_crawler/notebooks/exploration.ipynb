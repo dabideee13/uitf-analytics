{
 "cells": [
  {
   "cell_type": "markdown",
   "id": "4ae2c660-a6e2-4087-b328-e7519498e2c9",
   "metadata": {},
   "source": [
    "# Unit Investment Trust Fund (UITF) Exploration"
   ]
  },
  {
   "cell_type": "markdown",
   "id": "da19be3b-b28b-474f-ba34-780db9e482ed",
   "metadata": {},
   "source": [
    "## Packages"
   ]
  },
  {
   "cell_type": "code",
   "execution_count": 1,
   "id": "33b32145-8b8f-4686-a52b-86a563aae955",
   "metadata": {},
   "outputs": [],
   "source": [
    "from typing import Union\n",
    "import re\n",
    "\n",
    "import pandas as pd\n",
    "import numpy as np"
   ]
  },
  {
   "cell_type": "markdown",
   "id": "754719de-6a7b-41ea-aee0-9d97b45aca17",
   "metadata": {},
   "source": [
    "## Helpers"
   ]
  },
  {
   "cell_type": "code",
   "execution_count": 2,
   "id": "7c33d232-38a5-4d80-9f75-2c51e53c202d",
   "metadata": {},
   "outputs": [],
   "source": [
    "def remove_char(string: str) -> str:\n",
    "    pattern = r'[a-zA-Z]'\n",
    "    return re.sub(pattern, '', string).replace(',', '').strip()\n",
    "\n",
    "def clean_amount(amount: str) -> str:\n",
    "    return float(remove_char(amount))\n",
    "\n",
    "\n",
    "def clean_fee(fee_str):\n",
    "    if isinstance(fee_str, float):\n",
    "        return fee_str\n",
    "        \n",
    "    match = re.search(r'(\\d+(\\.\\d{1,2})?)%', fee_str)\n",
    "    if match:\n",
    "        return float(match.group(1))\n",
    "    \n",
    "    match_no_perc = re.search(r'(\\d+(\\.\\d{1,2})?)', fee_str)\n",
    "    if match_no_perc:\n",
    "        return float(match_no_perc.group(1))\n",
    "    \n",
    "    return None"
   ]
  },
  {
   "cell_type": "markdown",
   "id": "0360b494-3661-4b64-9251-25d5da4546ae",
   "metadata": {},
   "source": [
    "## Data"
   ]
  },
  {
   "cell_type": "code",
   "execution_count": 3,
   "id": "4e1ff4fd-27fa-45ab-a09b-6cc82d515815",
   "metadata": {},
   "outputs": [],
   "source": [
    "df_funds = pd.read_csv('data/funds.csv')\n",
    "df_performance = pd.read_csv('data/performance.csv')"
   ]
  },
  {
   "cell_type": "markdown",
   "id": "e033c24a-5daf-4323-aeba-e31dfe421ef7",
   "metadata": {},
   "source": [
    "### Merge dataframes"
   ]
  },
  {
   "cell_type": "code",
   "execution_count": 4,
   "id": "fa53e9e1-93d9-4d40-8684-959e561d8391",
   "metadata": {},
   "outputs": [],
   "source": [
    "df = pd.merge(df_funds, df_performance[['fund_name', 'ytd']], left_on='fund_name', right_on='fund_name')"
   ]
  },
  {
   "cell_type": "code",
   "execution_count": 5,
   "id": "9b9a8491-fd01-4520-865d-ac2336a67123",
   "metadata": {},
   "outputs": [
    {
     "data": {
      "text/plain": [
       "Index(['inception_date', 'currency', 'risk_classification',\n",
       "       'min_initial_participation', 'remarks', 'min_additional_participation',\n",
       "       'min_maintaining_balance', 'min_holding_period',\n",
       "       'cutoff_time_for_participationredemption', 'settlement_date',\n",
       "       'trust_fee_structure', 'early_redemption_fee', 'benchmark', 'fund_name',\n",
       "       'classification', 'navpu', 'bank', 'url', 'ytd'],\n",
       "      dtype='object')"
      ]
     },
     "execution_count": 5,
     "metadata": {},
     "output_type": "execute_result"
    }
   ],
   "source": [
    "df.columns"
   ]
  },
  {
   "cell_type": "code",
   "execution_count": 6,
   "id": "5cc598be-717a-4c32-9bc9-115d67e71221",
   "metadata": {
    "scrolled": true
   },
   "outputs": [],
   "source": [
    "df = df.drop(\n",
    "    [\n",
    "        'remarks', \n",
    "        'cutoff_time_for_participationredemption', \n",
    "        'settlement_date', \n",
    "        'benchmark', \n",
    "        'early_redemption_fee'\n",
    "    ], \n",
    "    axis=1\n",
    ")"
   ]
  },
  {
   "cell_type": "markdown",
   "id": "57952ef5-5088-4d0f-a104-2b814ebbd274",
   "metadata": {},
   "source": [
    "### Cleaning"
   ]
  },
  {
   "cell_type": "code",
   "execution_count": 8,
   "id": "b4a5fb07-13d0-448b-9fc2-97268e0a8cad",
   "metadata": {},
   "outputs": [],
   "source": [
    "df['inception_date'] = df['inception_date'].apply(pd.to_datetime)"
   ]
  },
  {
   "cell_type": "code",
   "execution_count": 9,
   "id": "fd8fb527-188b-43e9-9d14-c1e8d2315ec1",
   "metadata": {},
   "outputs": [],
   "source": [
    "df[['min_initial_participation', 'min_additional_participation', 'min_maintaining_balance']] = df[['min_initial_participation', 'min_additional_participation', 'min_maintaining_balance']].map(clean_amount)"
   ]
  },
  {
   "cell_type": "code",
   "execution_count": 10,
   "id": "1d7ab8f2-61b1-4e88-aca1-1d6d322b42f3",
   "metadata": {},
   "outputs": [],
   "source": [
    "df['min_holding_period'] = df['min_holding_period'].apply(remove_char)"
   ]
  },
  {
   "cell_type": "code",
   "execution_count": 11,
   "id": "e0b90be9-7d1d-4fc2-832a-64c09d751b19",
   "metadata": {},
   "outputs": [],
   "source": [
    "df['inception_year'] = df['inception_date'].apply(lambda x: x.year)"
   ]
  },
  {
   "cell_type": "code",
   "execution_count": 12,
   "id": "298c5615-0b76-4d79-9852-33e4c00ebb2f",
   "metadata": {},
   "outputs": [],
   "source": [
    "df['trust_fee_structure'] = df['trust_fee_structure'].apply(clean_fee)"
   ]
  },
  {
   "cell_type": "code",
   "execution_count": 14,
   "id": "841b664a-cc28-4ebc-b836-081753c1ba20",
   "metadata": {},
   "outputs": [
    {
     "data": {
      "text/html": [
       "<div>\n",
       "<style scoped>\n",
       "    .dataframe tbody tr th:only-of-type {\n",
       "        vertical-align: middle;\n",
       "    }\n",
       "\n",
       "    .dataframe tbody tr th {\n",
       "        vertical-align: top;\n",
       "    }\n",
       "\n",
       "    .dataframe thead th {\n",
       "        text-align: right;\n",
       "    }\n",
       "</style>\n",
       "<table border=\"1\" class=\"dataframe\">\n",
       "  <thead>\n",
       "    <tr style=\"text-align: right;\">\n",
       "      <th></th>\n",
       "      <th>inception_date</th>\n",
       "      <th>currency</th>\n",
       "      <th>risk_classification</th>\n",
       "      <th>min_initial_participation</th>\n",
       "      <th>min_additional_participation</th>\n",
       "      <th>min_maintaining_balance</th>\n",
       "      <th>min_holding_period</th>\n",
       "      <th>trust_fee_structure</th>\n",
       "      <th>fund_name</th>\n",
       "      <th>classification</th>\n",
       "      <th>navpu</th>\n",
       "      <th>bank</th>\n",
       "      <th>url</th>\n",
       "      <th>ytd</th>\n",
       "      <th>inception_year</th>\n",
       "    </tr>\n",
       "  </thead>\n",
       "  <tbody>\n",
       "    <tr>\n",
       "      <th>0</th>\n",
       "      <td>2006-12-04</td>\n",
       "      <td>PHP</td>\n",
       "      <td>Aggressive</td>\n",
       "      <td>25000.0</td>\n",
       "      <td>10000.0</td>\n",
       "      <td>25000.0</td>\n",
       "      <td>30</td>\n",
       "      <td>1.25</td>\n",
       "      <td>AB CAPITAL EQUITY FUND</td>\n",
       "      <td>Equity Fund</td>\n",
       "      <td>2.797781</td>\n",
       "      <td>AB Capital Asset Management</td>\n",
       "      <td>https://www.uitf.com.ph/daily_navpu_details.ph...</td>\n",
       "      <td>1.9004</td>\n",
       "      <td>2006</td>\n",
       "    </tr>\n",
       "    <tr>\n",
       "      <th>1</th>\n",
       "      <td>2015-12-11</td>\n",
       "      <td>PHP</td>\n",
       "      <td>Balanced</td>\n",
       "      <td>10000.0</td>\n",
       "      <td>10000.0</td>\n",
       "      <td>10000.0</td>\n",
       "      <td>30</td>\n",
       "      <td>1.00</td>\n",
       "      <td>BDO ESG EQUITY FUND</td>\n",
       "      <td>Equity Fund</td>\n",
       "      <td>96.833000</td>\n",
       "      <td>BDO Unibank, Inc.</td>\n",
       "      <td>https://www.uitf.com.ph/daily_navpu_details.ph...</td>\n",
       "      <td>-4.2677</td>\n",
       "      <td>2015</td>\n",
       "    </tr>\n",
       "  </tbody>\n",
       "</table>\n",
       "</div>"
      ],
      "text/plain": [
       "  inception_date currency risk_classification  min_initial_participation  \\\n",
       "0     2006-12-04      PHP          Aggressive                    25000.0   \n",
       "1     2015-12-11      PHP            Balanced                    10000.0   \n",
       "\n",
       "   min_additional_participation  min_maintaining_balance min_holding_period  \\\n",
       "0                       10000.0                  25000.0                 30   \n",
       "1                       10000.0                  10000.0                 30   \n",
       "\n",
       "   trust_fee_structure               fund_name classification      navpu  \\\n",
       "0                 1.25  AB CAPITAL EQUITY FUND    Equity Fund   2.797781   \n",
       "1                 1.00     BDO ESG EQUITY FUND    Equity Fund  96.833000   \n",
       "\n",
       "                          bank  \\\n",
       "0  AB Capital Asset Management   \n",
       "1            BDO Unibank, Inc.   \n",
       "\n",
       "                                                 url     ytd  inception_year  \n",
       "0  https://www.uitf.com.ph/daily_navpu_details.ph...  1.9004            2006  \n",
       "1  https://www.uitf.com.ph/daily_navpu_details.ph... -4.2677            2015  "
      ]
     },
     "execution_count": 14,
     "metadata": {},
     "output_type": "execute_result"
    }
   ],
   "source": [
    "df.head(2)"
   ]
  },
  {
   "cell_type": "code",
   "execution_count": 15,
   "id": "199eb24d-4bac-45d8-9c90-a9509d6d0430",
   "metadata": {},
   "outputs": [
    {
     "data": {
      "text/plain": [
       "Index(['inception_date', 'currency', 'risk_classification',\n",
       "       'min_initial_participation', 'min_additional_participation',\n",
       "       'min_maintaining_balance', 'min_holding_period', 'trust_fee_structure',\n",
       "       'fund_name', 'classification', 'navpu', 'bank', 'url', 'ytd',\n",
       "       'inception_year'],\n",
       "      dtype='object')"
      ]
     },
     "execution_count": 15,
     "metadata": {},
     "output_type": "execute_result"
    }
   ],
   "source": [
    "df.columns"
   ]
  },
  {
   "cell_type": "code",
   "execution_count": 16,
   "id": "b447abbd-d794-49c4-914f-a11ad7bb1b58",
   "metadata": {},
   "outputs": [],
   "source": [
    "df.to_csv('data/data.csv', index=False)"
   ]
  },
  {
   "cell_type": "code",
   "execution_count": null,
   "id": "c4a41789-2753-41ef-b96a-cde1abecee52",
   "metadata": {},
   "outputs": [],
   "source": []
  }
 ],
 "metadata": {
  "kernelspec": {
   "display_name": "Python 3 (ipykernel)",
   "language": "python",
   "name": "python3"
  },
  "language_info": {
   "codemirror_mode": {
    "name": "ipython",
    "version": 3
   },
   "file_extension": ".py",
   "mimetype": "text/x-python",
   "name": "python",
   "nbconvert_exporter": "python",
   "pygments_lexer": "ipython3",
   "version": "3.11.4"
  }
 },
 "nbformat": 4,
 "nbformat_minor": 5
}
